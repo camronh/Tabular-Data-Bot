{
 "cells": [
  {
   "cell_type": "markdown",
   "metadata": {},
   "source": [
    "# Agent\n",
    "\n",
    "Lets whip up a quick langgraph agent that loops with a single tool."
   ]
  },
  {
   "cell_type": "code",
   "execution_count": 1,
   "metadata": {},
   "outputs": [],
   "source": [
    "# Reload\n",
    "%load_ext autoreload\n",
    "%autoreload 2\n"
   ]
  },
  {
   "cell_type": "code",
   "execution_count": 12,
   "metadata": {},
   "outputs": [
    {
     "name": "stdout",
     "output_type": "stream",
     "text": [
      "Note: you may need to restart the kernel to use updated packages.\n"
     ]
    }
   ],
   "source": [
    "%pip install -q langgraph langchain-openai langchain-core\n",
    "\n"
   ]
  },
  {
   "cell_type": "code",
   "execution_count": 2,
   "metadata": {},
   "outputs": [],
   "source": [
    "from utils.data_collection import load_df, MovieSearchTool\n",
    "\n",
    "# df = load_df(\"../raw/top_50000.pkl\")\n"
   ]
  },
  {
   "cell_type": "code",
   "execution_count": 3,
   "metadata": {},
   "outputs": [
    {
     "name": "stdout",
     "output_type": "stream",
     "text": [
      "Loading df\n"
     ]
    }
   ],
   "source": [
    "movie_data_tool = MovieSearchTool()\n"
   ]
  },
  {
   "cell_type": "code",
   "execution_count": 4,
   "metadata": {},
   "outputs": [
    {
     "name": "stdout",
     "output_type": "stream",
     "text": [
      "Got query embeddings\n"
     ]
    },
    {
     "data": {
      "text/html": [
       "<div>\n",
       "<style scoped>\n",
       "    .dataframe tbody tr th:only-of-type {\n",
       "        vertical-align: middle;\n",
       "    }\n",
       "\n",
       "    .dataframe tbody tr th {\n",
       "        vertical-align: top;\n",
       "    }\n",
       "\n",
       "    .dataframe thead th {\n",
       "        text-align: right;\n",
       "    }\n",
       "</style>\n",
       "<table border=\"1\" class=\"dataframe\">\n",
       "  <thead>\n",
       "    <tr style=\"text-align: right;\">\n",
       "      <th></th>\n",
       "      <th>title</th>\n",
       "      <th>vote_average</th>\n",
       "      <th>vote_count</th>\n",
       "      <th>status</th>\n",
       "      <th>release_date</th>\n",
       "      <th>revenue</th>\n",
       "      <th>runtime</th>\n",
       "      <th>budget</th>\n",
       "      <th>imdb_id</th>\n",
       "      <th>original_language</th>\n",
       "      <th>...</th>\n",
       "      <th>director_of_photography</th>\n",
       "      <th>writers</th>\n",
       "      <th>producers</th>\n",
       "      <th>music_composer</th>\n",
       "      <th>imdb_rating</th>\n",
       "      <th>imdb_votes</th>\n",
       "      <th>embedding</th>\n",
       "      <th>embedding_norm</th>\n",
       "      <th>dot_product</th>\n",
       "      <th>similarity</th>\n",
       "    </tr>\n",
       "  </thead>\n",
       "  <tbody>\n",
       "    <tr>\n",
       "      <th>15</th>\n",
       "      <td>The Matrix</td>\n",
       "      <td>8.217</td>\n",
       "      <td>25416.0</td>\n",
       "      <td>Released</td>\n",
       "      <td>1999-03-31</td>\n",
       "      <td>463517383.0</td>\n",
       "      <td>136.0</td>\n",
       "      <td>63000000.0</td>\n",
       "      <td>tt0133093</td>\n",
       "      <td>en</td>\n",
       "      <td>...</td>\n",
       "      <td>Bill Pope</td>\n",
       "      <td>Lana Wachowski, Lilly Wachowski</td>\n",
       "      <td>Erwin Stoff, Barrie M. Osborne, Joel Silver, A...</td>\n",
       "      <td>Don Davis</td>\n",
       "      <td>8.7</td>\n",
       "      <td>2088357.0</td>\n",
       "      <td>[0.010932380333542824, 0.009856754913926125, -...</td>\n",
       "      <td>1.0</td>\n",
       "      <td>0.442468</td>\n",
       "      <td>0.442468</td>\n",
       "    </tr>\n",
       "    <tr>\n",
       "      <th>263</th>\n",
       "      <td>The Matrix Reloaded</td>\n",
       "      <td>7.054</td>\n",
       "      <td>10827.0</td>\n",
       "      <td>Released</td>\n",
       "      <td>2003-05-15</td>\n",
       "      <td>738599701.0</td>\n",
       "      <td>138.0</td>\n",
       "      <td>150000000.0</td>\n",
       "      <td>tt0234215</td>\n",
       "      <td>en</td>\n",
       "      <td>...</td>\n",
       "      <td>Bill Pope</td>\n",
       "      <td>Lana Wachowski, Lilly Wachowski</td>\n",
       "      <td>Grant Hill, Andrew Mason, Joel Silver, Bruce B...</td>\n",
       "      <td>Don Davis</td>\n",
       "      <td>7.2</td>\n",
       "      <td>638656.0</td>\n",
       "      <td>[0.0051968153566122055, -0.01295418106019497, ...</td>\n",
       "      <td>1.0</td>\n",
       "      <td>0.436334</td>\n",
       "      <td>0.436334</td>\n",
       "    </tr>\n",
       "    <tr>\n",
       "      <th>43500</th>\n",
       "      <td>Matrix</td>\n",
       "      <td>6.904</td>\n",
       "      <td>26.0</td>\n",
       "      <td>Released</td>\n",
       "      <td>1998-12-31</td>\n",
       "      <td>0.0</td>\n",
       "      <td>7.0</td>\n",
       "      <td>0.0</td>\n",
       "      <td>NaN</td>\n",
       "      <td>en</td>\n",
       "      <td>...</td>\n",
       "      <td>NaN</td>\n",
       "      <td>NaN</td>\n",
       "      <td>NaN</td>\n",
       "      <td>NaN</td>\n",
       "      <td>NaN</td>\n",
       "      <td>NaN</td>\n",
       "      <td>[0.023806946352124214, 0.008451313711702824, -...</td>\n",
       "      <td>1.0</td>\n",
       "      <td>0.546798</td>\n",
       "      <td>0.546798</td>\n",
       "    </tr>\n",
       "  </tbody>\n",
       "</table>\n",
       "<p>3 rows × 30 columns</p>\n",
       "</div>"
      ],
      "text/plain": [
       "                     title  vote_average  vote_count    status release_date  \\\n",
       "15              The Matrix         8.217     25416.0  Released   1999-03-31   \n",
       "263    The Matrix Reloaded         7.054     10827.0  Released   2003-05-15   \n",
       "43500               Matrix         6.904        26.0  Released   1998-12-31   \n",
       "\n",
       "           revenue  runtime       budget    imdb_id original_language  ...  \\\n",
       "15     463517383.0    136.0   63000000.0  tt0133093                en  ...   \n",
       "263    738599701.0    138.0  150000000.0  tt0234215                en  ...   \n",
       "43500          0.0      7.0          0.0        NaN                en  ...   \n",
       "\n",
       "      director_of_photography                          writers  \\\n",
       "15                  Bill Pope  Lana Wachowski, Lilly Wachowski   \n",
       "263                 Bill Pope  Lana Wachowski, Lilly Wachowski   \n",
       "43500                     NaN                              NaN   \n",
       "\n",
       "                                               producers music_composer  \\\n",
       "15     Erwin Stoff, Barrie M. Osborne, Joel Silver, A...      Don Davis   \n",
       "263    Grant Hill, Andrew Mason, Joel Silver, Bruce B...      Don Davis   \n",
       "43500                                                NaN            NaN   \n",
       "\n",
       "      imdb_rating imdb_votes  \\\n",
       "15            8.7  2088357.0   \n",
       "263           7.2   638656.0   \n",
       "43500         NaN        NaN   \n",
       "\n",
       "                                               embedding embedding_norm  \\\n",
       "15     [0.010932380333542824, 0.009856754913926125, -...            1.0   \n",
       "263    [0.0051968153566122055, -0.01295418106019497, ...            1.0   \n",
       "43500  [0.023806946352124214, 0.008451313711702824, -...            1.0   \n",
       "\n",
       "      dot_product similarity  \n",
       "15       0.442468   0.442468  \n",
       "263      0.436334   0.436334  \n",
       "43500    0.546798   0.546798  \n",
       "\n",
       "[3 rows x 30 columns]"
      ]
     },
     "execution_count": 4,
     "metadata": {},
     "output_type": "execute_result"
    }
   ],
   "source": [
    "movie_data_tool.semantic_search(\"Matrix\", k=3)\n"
   ]
  },
  {
   "cell_type": "code",
   "execution_count": 14,
   "metadata": {},
   "outputs": [],
   "source": [
    "from utils.langgraph import make_graph\n",
    "\n",
    "graph = make_graph([movie_data_tool])"
   ]
  },
  {
   "cell_type": "code",
   "execution_count": 16,
   "metadata": {},
   "outputs": [
    {
     "name": "stdout",
     "output_type": "stream",
     "text": [
      "Got query embeddings\n"
     ]
    },
    {
     "data": {
      "text/plain": [
       "'\"The Matrix Reloaded\" was released on May 15, 2003. You can find more information about the movie [here](https://www.imdb.com/title/tt0234215).'"
      ]
     },
     "execution_count": 16,
     "metadata": {},
     "output_type": "execute_result"
    }
   ],
   "source": [
    "from langchain_core.messages import HumanMessage, AIMessage, SystemMessage\n",
    "results = graph.invoke(input={\"messages\": [HumanMessage(content=\"When was the matrix reloaded made?\")]})\n",
    "results[\"messages\"][-1].content"
   ]
  },
  {
   "cell_type": "code",
   "execution_count": 8,
   "metadata": {},
   "outputs": [
    {
     "data": {
      "text/plain": [
       "ToolMessage(content='Error: TypeError(\"MovieData.semantic_search_tool() missing 1 required positional argument: \\'self\\'\")\\n Please fix your mistakes.', name='movie_data_search', id='fbce226b-9fef-4db5-b3b9-44c0a9feb8d5', tool_call_id='call_J7ae7SI0NrsJtxtrm6BfsU59')"
      ]
     },
     "execution_count": 8,
     "metadata": {},
     "output_type": "execute_result"
    }
   ],
   "source": [
    "results[\"messages\"][-1]"
   ]
  },
  {
   "cell_type": "code",
   "execution_count": 9,
   "metadata": {},
   "outputs": [
    {
     "data": {
      "text/plain": [
       "[HumanMessage(content='When was the matrix reloaded made?', additional_kwargs={}, response_metadata={}, id='0f98e6ee-3997-48a1-ae82-2aa4ddd2c27e'),\n",
       " AIMessage(content='', additional_kwargs={'tool_calls': [{'id': 'call_J7ae7SI0NrsJtxtrm6BfsU59', 'function': {'arguments': '{\"query\":\"The Matrix Reloaded\"}', 'name': 'movie_data_search'}, 'type': 'function'}], 'refusal': None}, response_metadata={'token_usage': {'completion_tokens': 18, 'prompt_tokens': 77, 'total_tokens': 95, 'completion_tokens_details': {'reasoning_tokens': 0}}, 'model_name': 'gpt-4o-mini-2024-07-18', 'system_fingerprint': 'fp_1bb46167f9', 'finish_reason': 'tool_calls', 'logprobs': None}, id='run-941f7642-64a3-4199-bfee-076638e95ca7-0', tool_calls=[{'name': 'movie_data_search', 'args': {'query': 'The Matrix Reloaded'}, 'id': 'call_J7ae7SI0NrsJtxtrm6BfsU59', 'type': 'tool_call'}], usage_metadata={'input_tokens': 77, 'output_tokens': 18, 'total_tokens': 95})]"
      ]
     },
     "execution_count": 9,
     "metadata": {},
     "output_type": "execute_result"
    }
   ],
   "source": [
    "\n",
    "messages = results[\"messages\"]\n",
    "# Remove last message\n",
    "messages = messages[:-1]\n",
    "\n",
    "messages\n"
   ]
  },
  {
   "cell_type": "code",
   "execution_count": null,
   "metadata": {},
   "outputs": [],
   "source": []
  }
 ],
 "metadata": {
  "kernelspec": {
   "display_name": ".venv",
   "language": "python",
   "name": "python3"
  },
  "language_info": {
   "codemirror_mode": {
    "name": "ipython",
    "version": 3
   },
   "file_extension": ".py",
   "mimetype": "text/x-python",
   "name": "python",
   "nbconvert_exporter": "python",
   "pygments_lexer": "ipython3",
   "version": "3.12.5"
  }
 },
 "nbformat": 4,
 "nbformat_minor": 2
}
