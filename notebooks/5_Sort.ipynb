{
 "cells": [
  {
   "cell_type": "markdown",
   "metadata": {},
   "source": [
    "# Improve the agent\n",
    "\n",
    "So we have an agent that passes a 37% accuracy on the evals.\n",
    "\n",
    "Lets try to improve it\n",
    "\n",
    "First Im going to analyze the dataset and split it up into categories to decide which category to start with"
   ]
  },
  {
   "cell_type": "markdown",
   "metadata": {},
   "source": [
    "Okay so I went through and just added splits to all of the examples\n",
    "\n",
    "It looks like sort is the most common one so we will start there"
   ]
  },
  {
   "cell_type": "code",
   "execution_count": null,
   "metadata": {},
   "outputs": [],
   "source": [
    "# Get the df\n",
    "from utils.data_collection import load_df\n",
    "df = load_df()\n",
    "\n",
    "# columns\n",
    "df.columns\n",
    "\n"
   ]
  },
  {
   "cell_type": "markdown",
   "metadata": {},
   "source": [
    "Nice so we added a sort field to the rating column and that [improved the accuracy to 63%](https://smith.langchain.com/o/d967989d-4221-53db-b0a5-665b504acba2/datasets/e1357a55-6663-4300-9695-34aad34bd544/compare?selectedSessions=6c31697f-8b1e-42e9-96c7-17ea0bbb01da%2C96ed9bfc-e635-422b-9d51-390841108888&baseline=6c31697f-8b1e-42e9-96c7-17ea0bbb01da)\n",
    "\n",
    "Lets add some more sorts\n",
    "\n"
   ]
  },
  {
   "cell_type": "markdown",
   "metadata": {},
   "source": [
    "Nice! [Now were up to 68%!](https://smith.langchain.com/o/d967989d-4221-53db-b0a5-665b504acba2/datasets/e1357a55-6663-4300-9695-34aad34bd544/compare?selectedSessions=08b8a117-a5f4-4e9d-b540-c98413c63b91%2Ce68e2b2f-a2af-444e-aff0-3b522497b776&baseline=08b8a117-a5f4-4e9d-b540-c98413c63b91)"
   ]
  },
  {
   "cell_type": "code",
   "execution_count": null,
   "metadata": {},
   "outputs": [],
   "source": []
  }
 ],
 "metadata": {
  "kernelspec": {
   "display_name": ".venv",
   "language": "python",
   "name": "python3"
  },
  "language_info": {
   "codemirror_mode": {
    "name": "ipython",
    "version": 3
   },
   "file_extension": ".py",
   "mimetype": "text/x-python",
   "name": "python",
   "nbconvert_exporter": "python",
   "pygments_lexer": "ipython3",
   "version": "3.12.5"
  }
 },
 "nbformat": 4,
 "nbformat_minor": 2
}
