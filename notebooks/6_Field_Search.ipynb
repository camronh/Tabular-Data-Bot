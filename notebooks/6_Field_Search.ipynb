{
 "cells": [
  {
   "cell_type": "markdown",
   "metadata": {},
   "source": [
    "# Field Search\n",
    "\n",
    "Okay now lets add some field searching for the other examples."
   ]
  },
  {
   "cell_type": "code",
   "execution_count": null,
   "metadata": {},
   "outputs": [],
   "source": [
    "# We need all of the genre options\n",
    "from utils.data_collection import load_df\n",
    "\n",
    "df = load_df()\n",
    "\n"
   ]
  },
  {
   "cell_type": "code",
   "execution_count": null,
   "metadata": {},
   "outputs": [],
   "source": [
    "genres_lists = df[\"genres\"].unique().tolist()\n",
    "\n",
    "\n"
   ]
  },
  {
   "cell_type": "code",
   "execution_count": null,
   "metadata": {},
   "outputs": [],
   "source": [
    "genres_lists[0]"
   ]
  },
  {
   "cell_type": "code",
   "execution_count": null,
   "metadata": {},
   "outputs": [],
   "source": [
    "all_genres = []\n",
    "for genre_list in genres_lists:\n",
    "    # Split by , and strip whitespace\n",
    "    try:\n",
    "        genres = genre_list.split(\",\")\n",
    "        for genre in genres:\n",
    "            genre = genre.strip()\n",
    "            if genre not in all_genres:\n",
    "                all_genres.append(genre)\n",
    "\n",
    "    except Exception as e:\n",
    "        print(genre_list)\n",
    "        print(e)\n",
    "\n",
    "print(all_genres)"
   ]
  },
  {
   "cell_type": "code",
   "execution_count": null,
   "metadata": {},
   "outputs": [],
   "source": [
    "all_genres"
   ]
  },
  {
   "cell_type": "code",
   "execution_count": null,
   "metadata": {},
   "outputs": [],
   "source": [
    "# Why is it getting the will ferrell one wrong?\n",
    "\n",
    "df.head()"
   ]
  },
  {
   "cell_type": "code",
   "execution_count": null,
   "metadata": {},
   "outputs": [],
   "source": [
    "# Lowest rated Will Ferrell movie\n",
    "\n",
    "has_cast_df = df[df[\"cast\"].notna()]\n",
    "\n",
    "will_ferrell_movies = has_cast_df[has_cast_df[\"cast\"].str.contains(\"Will Ferrell\")]\n",
    "\n",
    "# Columns where the ratings are non nan\n",
    "has_ratings_df = will_ferrell_movies[will_ferrell_movies[\"imdb_rating\"].notna()]\n",
    "\n",
    "has_ratings_df.sort_values(by=\"imdb_rating\", ascending=True).head()"
   ]
  },
  {
   "cell_type": "markdown",
   "metadata": {},
   "source": [
    "Fixed that example"
   ]
  },
  {
   "cell_type": "markdown",
   "metadata": {},
   "source": [
    "Added this to the prompt\n",
    "\n",
    "> Consider the number of votes to be how popular a movie is"
   ]
  },
  {
   "cell_type": "code",
   "execution_count": null,
   "metadata": {},
   "outputs": [],
   "source": [
    "# How much revenue did Christopher Nolan make in his first 2 movies?\n",
    "has_director_df = df[df[\"director\"].notna()]\n",
    "\n",
    "nolan_df = has_director_df[has_director_df[\"director\"].str.contains(\"Christopher Nolan\")]\n",
    "\n",
    "nolan_df.head()\n",
    "\n",
    "\n"
   ]
  },
  {
   "cell_type": "code",
   "execution_count": null,
   "metadata": {},
   "outputs": [],
   "source": [
    "# Sort by release date \n",
    "nolan_df = nolan_df.sort_values(by=\"release_date\", ascending=True)\n",
    "\n",
    "# Get the first 2 movies\n",
    "nolan_df.head(5)\n"
   ]
  },
  {
   "cell_type": "code",
   "execution_count": null,
   "metadata": {},
   "outputs": [],
   "source": [
    "# Need a list of all the orignal language options\n",
    "df[\"original_language\"].unique()\n"
   ]
  },
  {
   "cell_type": "markdown",
   "metadata": {},
   "source": [
    "Awesome! We managed to increase our [accuracy from 68% to 84%](https://smith.langchain.com/o/d967989d-4221-53db-b0a5-665b504acba2/datasets/e1357a55-6663-4300-9695-34aad34bd544/compare?selectedSessions=f03f2ac5-30bf-4bf3-bc1c-b4857e936bd1%2Ce68e2b2f-a2af-444e-aff0-3b522497b776&baseline=e68e2b2f-a2af-444e-aff0-3b522497b776&activeSession=e68e2b2f-a2af-444e-aff0-3b522497b776)!\n",
    "\n",
    "The agent has the tools to get close to 100% accuracy, but its not using them correctly. Lets start prompting!"
   ]
  },
  {
   "cell_type": "code",
   "execution_count": null,
   "metadata": {},
   "outputs": [],
   "source": []
  }
 ],
 "metadata": {
  "kernelspec": {
   "display_name": ".venv",
   "language": "python",
   "name": "python3"
  },
  "language_info": {
   "codemirror_mode": {
    "name": "ipython",
    "version": 3
   },
   "file_extension": ".py",
   "mimetype": "text/x-python",
   "name": "python",
   "nbconvert_exporter": "python",
   "pygments_lexer": "ipython3",
   "version": "3.12.5"
  }
 },
 "nbformat": 4,
 "nbformat_minor": 2
}
