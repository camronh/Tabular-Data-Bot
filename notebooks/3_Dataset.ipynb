{
 "cells": [
  {
   "cell_type": "markdown",
   "metadata": {},
   "source": [
    "# Ground Truth Dataset\n",
    "\n",
    "Lets create a ground truth dataset. Lets create the first few examples by hand and then use the LLM to generate the rest.\n"
   ]
  },
  {
   "cell_type": "code",
   "execution_count": null,
   "metadata": {},
   "outputs": [],
   "source": [
    "# Reload\n",
    "%load_ext autoreload\n",
    "%autoreload 2\n",
    "\n"
   ]
  },
  {
   "cell_type": "code",
   "execution_count": null,
   "metadata": {},
   "outputs": [],
   "source": [
    "%pip install -qU langchain-openai langchain-core"
   ]
  },
  {
   "cell_type": "code",
   "execution_count": null,
   "metadata": {},
   "outputs": [],
   "source": [
    "from utils.data_collection import load_df\n",
    "\n",
    "df = load_df(\"../raw/top_50000.pkl\")"
   ]
  },
  {
   "cell_type": "code",
   "execution_count": null,
   "metadata": {},
   "outputs": [],
   "source": [
    "df.head()"
   ]
  },
  {
   "cell_type": "code",
   "execution_count": null,
   "metadata": {},
   "outputs": [],
   "source": [
    "questions = [\n",
    "    {\"query\": \"What is the title of the movie with the highest rating?\",\n",
    "        \"splits\": [\"relative\"]},\n",
    "    {\"query\": \"What is the title of the movie with the lowest rating?\",\n",
    "        \"splits\": [\"relative\"]},\n",
    "    {\"query\": \"What are the top 3 movies with the highest ratings?\",\n",
    "        \"splits\": [\"relative\"]},\n",
    "    {\"query\": \"What are the top 5 movies with the highest ratings?\",\n",
    "        \"splits\": [\"relative\"]},\n",
    "    {\"query\": \"What are the top 10 movies with the highest rating?\",\n",
    "        \"splits\": [\"relative\"]},\n",
    "    {\"query\": \"What are the bottom 10 movies by rating?\",\n",
    "        \"splits\": [\"relative\"]},\n",
    "    {\"query\": \"What are the bottom 5 movies by rating?\",\n",
    "        \"splits\": [\"relative\"]},\n",
    "\n",
    "    # Vague search\n",
    "    # Content tag = Requires the agent to understand the content of the movie\n",
    "    {\"query\": \"What is that one movie about a rat helping a chef cook?\",\n",
    "        \"splits\": [\"content\"]},\n",
    "    {\"query\": \"What are some good movies about a woman who can talk to animals?\",\n",
    "        \"splits\": [\"content\"]},\n",
    "    {\"query\": \"What are some good christmas movies about the raindeer?\",\n",
    "        \"splits\": [\"content\"]},\n",
    "    {\"query\": \"What are some good military movies about the war in vietnam?\",\n",
    "        \"splits\": [\"content\"]},\n",
    "    {\"query\": \"What are some good conspiracy theory documentaries about the moon landing?\",\n",
    "        \"splits\": [\"content\"]},\n",
    "\n",
    "\n",
    "    # Specifics\n",
    "    {\"query\": \"What is the movie with the highest rating that is not a comedy?\",\n",
    "        \"splits\": [\"specifics\"]},\n",
    "    {\"query\": \"What is the lowest rated movie that Will Farrell is in?\",\n",
    "        \"splits\": [\"specifics\"]},\n",
    "    {\"query\": \"What are all of the movies Tom Hanks was in?\",\n",
    "        \"splits\": [\"specifics\"]},\n",
    "    {\"query\": \"What is that movie where Edward Norton has multiple personalities?\",\n",
    "        \"splits\": [\"specifics\"]},\n",
    "    {\"query\": \"Which movie in Italian has the most ratings?\",\n",
    "        \"splits\": [\"specifics\"]},\n",
    "    {\"query\": \"What is the lowest rated movie that Will Farrell is in?\",\n",
    "        \"splits\": [\"specifics\"]},\n",
    "    {\"query\": \"What are all of the movies Tom Hanks was in?\",\n",
    "        \"splits\": [\"specifics\"]},\n",
    "    {\"query\": \"What is that movie where Edward Norton has multiple personalities?\",\n",
    "        \"splits\": [\"specifics\"]},\n",
    "    {\"query\": \"What has James Cameron directed?\",\n",
    "        \"splits\": [\"specifics\"]},\n",
    "    {\"query\": \"What was the most popular movie in 2000?\",\n",
    "        \"splits\": [\"specifics\"]},\n",
    "    {\"query\": \"What is the movie with the most ratings in the year 2000?\",\n",
    "        \"splits\": [\"specifics\"]},\n",
    "\n",
    "    # Combination\n",
    "    {\"query\": \"Who is the director of the 3rd lowest revenue movie?\",\n",
    "        \"splits\": [\"combination\", \"hard\"]},\n",
    "    {\"query\": \"What is the most recent movie Horror movie that James Cameron directed?\",\n",
    "        \"splits\": [\"combination\", \"hard\"]},\n",
    "    {\"query\": \"How much revenue did Christopher Nolan make in his first 2 movies?\",\n",
    "        \"splits\": [\"combination\", \"hard\"]},\n",
    "]"
   ]
  },
  {
   "cell_type": "markdown",
   "metadata": {},
   "source": [
    "Thats a good start!"
   ]
  },
  {
   "cell_type": "code",
   "execution_count": null,
   "metadata": {},
   "outputs": [],
   "source": [
    "from utils.langgraph import create_agent\n",
    "\n",
    "agent = create_agent()"
   ]
  },
  {
   "cell_type": "markdown",
   "metadata": {},
   "source": [
    "Lets create all of the traces"
   ]
  },
  {
   "cell_type": "code",
   "execution_count": null,
   "metadata": {},
   "outputs": [],
   "source": [
    "from langchain_core.messages import HumanMessage\n",
    "\n",
    "for question in questions:\n",
    "    print(question)\n",
    "    messages = [HumanMessage(content=question[\"query\"])]\n",
    "    response = agent.invoke({\"messages\": messages})\n",
    "    print(response[\"messages\"][-1].content)\n"
   ]
  },
  {
   "cell_type": "markdown",
   "metadata": {},
   "source": [
    "Okay we will have a bunch of traces generated from this. We will need to correct them. We can do this by adding them all to an annotation queue and going through them."
   ]
  },
  {
   "cell_type": "markdown",
   "metadata": {},
   "source": [
    "## Correcting them\n",
    "\n",
    "okay now I need to correct the traces"
   ]
  },
  {
   "cell_type": "code",
   "execution_count": null,
   "metadata": {},
   "outputs": [],
   "source": [
    "df.head()\n"
   ]
  },
  {
   "cell_type": "code",
   "execution_count": null,
   "metadata": {},
   "outputs": [],
   "source": [
    "from utils.data_collection import df_to_llm\n"
   ]
  },
  {
   "cell_type": "code",
   "execution_count": null,
   "metadata": {},
   "outputs": [],
   "source": [
    "# Get top 5 apps based on imdb_rating\n",
    "top_5_apps = df.sort_values(by=\"imdb_rating\", ascending=False)\n",
    "df_to_llm(top_5_apps.head())\n"
   ]
  },
  {
   "cell_type": "code",
   "execution_count": null,
   "metadata": {},
   "outputs": [],
   "source": [
    "# Bottom 5 apps\n",
    "bottom_5_apps = df.tail()\n",
    "bottom_5_apps\n"
   ]
  },
  {
   "cell_type": "code",
   "execution_count": null,
   "metadata": {},
   "outputs": [],
   "source": [
    "# Movie with the lowest rating\n",
    "\n",
    "lowest_rating = df.sort_values(by=\"imdb_rating\", ascending=True).head()\n",
    "lowest_rating"
   ]
  },
  {
   "cell_type": "code",
   "execution_count": null,
   "metadata": {},
   "outputs": [],
   "source": [
    "# Top 10 highest rating movies\n",
    "top_10_highest_rating = df.sort_values(by=\"imdb_rating\", ascending=False).head(10)\n",
    "titles = top_10_highest_rating[\"title\"].tolist()\n",
    "\" | \".join(titles)\n"
   ]
  },
  {
   "cell_type": "code",
   "execution_count": null,
   "metadata": {},
   "outputs": [],
   "source": [
    "from utils.data_collection import MovieSearchTool\n",
    "\n",
    "tool = MovieSearchTool()"
   ]
  },
  {
   "cell_type": "code",
   "execution_count": null,
   "metadata": {},
   "outputs": [],
   "source": [
    "moon_movies = tool.semantic_search(\"Moon Conspiracy\", k=100)\n",
    "\n",
    "# Where \"Documentary\" is in the genres column\n",
    "documentaries = moon_movies[moon_movies[\"genres\"].str.contains(\"Documentary\")]\n",
    "documentaries.head(10)"
   ]
  },
  {
   "cell_type": "code",
   "execution_count": null,
   "metadata": {},
   "outputs": [],
   "source": [
    "titles = documentaries[\"title\"].tolist()\n",
    "\" | \".join(titles)\n"
   ]
  },
  {
   "cell_type": "code",
   "execution_count": null,
   "metadata": {},
   "outputs": [],
   "source": [
    "genres"
   ]
  },
  {
   "cell_type": "code",
   "execution_count": null,
   "metadata": {},
   "outputs": [],
   "source": [
    "# In not Nan in genres\n",
    "has_genre = df[df[\"genres\"].notna()]\n",
    "\n",
    "horror = has_genre[has_genre[\"genres\"].str.contains(\"Horror\")]\n",
    "\n",
    "james_cameron_movies = horror[horror[\"director\"] == \"James Cameron\"]\n",
    "james_cameron_movies\n",
    "\n"
   ]
  },
  {
   "cell_type": "code",
   "execution_count": null,
   "metadata": {},
   "outputs": [],
   "source": [
    "# What is the lowest rated movie that Will Farrell is in?\n",
    "has_cast = df[df[\"cast\"].notna()]\n",
    "\n",
    "will_farrell = has_cast[has_cast[\"cast\"].str.contains(\"Will Farrell\")]\n",
    "will_farrell = will_farrell.sort_values(by=\"imdb_rating\", ascending=True)\n",
    "will_farrell.head(1)\n",
    "\n",
    "\n"
   ]
  },
  {
   "cell_type": "code",
   "execution_count": null,
   "metadata": {},
   "outputs": [],
   "source": [
    "# What has James Cameron directed?\n",
    "\n",
    "has_director = df[df[\"director\"].notna()]\n",
    "cameron = has_director[has_director[\"director\"] == \"James Cameron\"]\n",
    "cameron\n",
    "\n",
    "titles = cameron[\"title\"].tolist()\n",
    "\" | \".join(titles)\n",
    "\n",
    "\n",
    "\n"
   ]
  },
  {
   "cell_type": "code",
   "execution_count": null,
   "metadata": {},
   "outputs": [],
   "source": [
    "# Who is the director of the 3rd lowest revenue movie?\n",
    "\n",
    "lowest_revenue = df.sort_values(by=\"revenue\", ascending=True)\n",
    "third_lowest_revenue = lowest_revenue.iloc[2]\n",
    "print(third_lowest_revenue[\"title\"])\n",
    "print(third_lowest_revenue[\"director\"])\n"
   ]
  },
  {
   "cell_type": "code",
   "execution_count": null,
   "metadata": {},
   "outputs": [],
   "source": [
    "# What was the most popular movie in 2000?\n",
    "# Reformat date column from YYYY-MM-DD to datetime compatible with .dt\n",
    "import pandas as pd\n",
    "df[\"release_date\"] = pd.to_datetime(df[\"release_date\"])\n",
    "\n",
    "movies_2000 = df[df[\"release_date\"].dt.year == 2000]\n",
    "most_popular_2000 = movies_2000.sort_values(by=\"imdb_votes\", ascending=False).head(1)\n",
    "most_popular_2000\n"
   ]
  },
  {
   "cell_type": "code",
   "execution_count": null,
   "metadata": {},
   "outputs": [],
   "source": [
    "# What are some good christmas movies about the raindeer?\n",
    "\n",
    "reindeer_movies = tool.semantic_search(\"reindeer\", k = 10)\n",
    "reindeer_movies\n",
    "\n",
    "titles = reindeer_movies[\"title\"].tolist()\n",
    "\" | \".join(titles)\n"
   ]
  },
  {
   "cell_type": "code",
   "execution_count": null,
   "metadata": {},
   "outputs": [],
   "source": [
    "# What are all of the movies Tom Hanks was in?\n",
    "\n",
    "\n",
    "tom_hanks = has_cast[has_cast[\"cast\"].str.contains(\"Tom Hanks\")]\n",
    "titles = tom_hanks[\"title\"].tolist()\n",
    "\" | \".join(titles)\n",
    "\n",
    "\n"
   ]
  },
  {
   "cell_type": "code",
   "execution_count": null,
   "metadata": {},
   "outputs": [],
   "source": [
    "# What are some good movies about a woman who can talk to animals?\n",
    "\n",
    "animal_movies = tool.semantic_search(\"Woman talking to animals\", k = 10)\n",
    "animal_movies\n",
    "\n",
    "titles = animal_movies[\"title\"].tolist()\n",
    "\" | \".join(titles)\n",
    "\n",
    "\n"
   ]
  },
  {
   "cell_type": "code",
   "execution_count": null,
   "metadata": {},
   "outputs": [],
   "source": [
    "# What are the bottom 5 movies by rating?\n",
    "\n",
    "bottom_5 = df.sort_values(by=\"imdb_rating\", ascending=True).head(5)\n",
    "titles = bottom_5[\"title\"].tolist()\n",
    "\" | \".join(titles)\n",
    "\n",
    "\n"
   ]
  },
  {
   "cell_type": "code",
   "execution_count": null,
   "metadata": {},
   "outputs": [],
   "source": [
    "# What are some good military movies about the war in vietnam?\n",
    "\n",
    "vietnam_movies = tool.semantic_search(\"Vietnam War\", k = 10)\n",
    "vietnam_movies\n",
    "\n",
    "titles = vietnam_movies[\"title\"].tolist()\n",
    "\" | \".join(titles)\n",
    "\n",
    "\n"
   ]
  },
  {
   "cell_type": "code",
   "execution_count": null,
   "metadata": {},
   "outputs": [],
   "source": [
    "# Which movie in Italian has the most ratings?\n",
    "\n",
    "has_original_language = df[df[\"original_language\"].notna()]\n",
    "\n",
    "italian_movies = has_original_language[has_original_language[\"original_language\"] == \"it\"]\n",
    "\n",
    "most_ratings = italian_movies.sort_values(by=\"imdb_votes\", ascending=False).head(1)\n",
    "most_ratings\n"
   ]
  },
  {
   "cell_type": "code",
   "execution_count": null,
   "metadata": {},
   "outputs": [],
   "source": [
    "# What is the movie with the highest rating that is not a comedy?\n",
    "\n",
    "has_genres = df[df[\"genres\"].notna()]\n",
    "not_comedy = has_genres[~has_genres[\"genres\"].str.contains(\"Comedy\")]\n",
    "highest_rating = not_comedy.sort_values(by=\"imdb_rating\", ascending=False).head(1)\n",
    "highest_rating\n",
    "\n",
    "\n",
    "\n",
    "\n",
    "\n"
   ]
  },
  {
   "cell_type": "code",
   "execution_count": null,
   "metadata": {},
   "outputs": [],
   "source": [
    "# What are the bottom 10 movies by rating?\n",
    "\n",
    "bottom_10 = df.sort_values(by=\"imdb_rating\", ascending=True).head(10)\n",
    "titles = bottom_10[\"title\"].tolist()\n",
    "\" | \".join(titles)\n",
    "\n",
    "\n",
    "\n",
    "# What is the most popular movie in 2000?\n",
    "\n"
   ]
  },
  {
   "cell_type": "code",
   "execution_count": null,
   "metadata": {},
   "outputs": [],
   "source": [
    "# How much revenue did Christopher Nolan make in his first 2 movies?\n",
    "\n",
    "nolan = df[df[\"director\"] == \"Christopher Nolan\"]\n",
    "\n",
    "earliest_nolan = nolan.sort_values(by=\"release_date\", ascending=True).head(2)\n",
    "\n",
    "earliest_nolan\n",
    "\n",
    "for index, row in earliest_nolan.iterrows():\n",
    "    print(f\"Title: {row['title']}\")\n",
    "    print(f\"Revenue: {row['revenue']}\")\n",
    "    print(\"------\")\n",
    "\n",
    "\n"
   ]
  },
  {
   "cell_type": "markdown",
   "metadata": {},
   "source": []
  },
  {
   "cell_type": "code",
   "execution_count": null,
   "metadata": {},
   "outputs": [],
   "source": []
  }
 ],
 "metadata": {
  "kernelspec": {
   "display_name": ".venv",
   "language": "python",
   "name": "python3"
  },
  "language_info": {
   "codemirror_mode": {
    "name": "ipython",
    "version": 3
   },
   "file_extension": ".py",
   "mimetype": "text/x-python",
   "name": "python",
   "nbconvert_exporter": "python",
   "pygments_lexer": "ipython3",
   "version": "3.12.5"
  }
 },
 "nbformat": 4,
 "nbformat_minor": 2
}
